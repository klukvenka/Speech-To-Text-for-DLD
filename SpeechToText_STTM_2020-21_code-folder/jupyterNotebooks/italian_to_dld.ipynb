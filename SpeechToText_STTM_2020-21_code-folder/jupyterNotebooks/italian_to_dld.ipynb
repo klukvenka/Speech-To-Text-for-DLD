{
  "nbformat": 4,
  "nbformat_minor": 0,
  "metadata": {
    "accelerator": "GPU",
    "colab": {
      "name": "dld_transfertraining.ipynb",
      "provenance": [],
      "collapsed_sections": [],
      "toc_visible": true
    },
    "kernelspec": {
      "display_name": "Python 3",
      "name": "python3"
    }
  },
  "cells": [
    {
      "cell_type": "markdown",
      "metadata": {
        "id": "JgeLFOaVPfer"
      },
      "source": [
        "# Speech to Text Module AUI 2020-2021\n",
        "\n",
        "\n",
        "references : https://deepspeech.readthedocs.io/en/v0.8.2/TRAINING.html#transfer-learning-new-alphabet\n",
        "\n",
        "\n",
        "**Authors** : \n",
        "\n",
        "Aida Gasanova aida.gasanova@mail.polimi.it Computer Science and Engineering \n",
        "\n",
        "Max Griesmayer max.griesmayer@mail.polimi.it Erasmus - Computer Science and Engineering\n",
        "\n",
        "Victor Mouradian victor.mouradian@gmail.com Erasmus - Computer Science and Engineering"
      ]
    },
    {
      "cell_type": "markdown",
      "metadata": {
        "id": "-mng_ZnYcjRR"
      },
      "source": [
        "# Requirements\n"
      ]
    },
    {
      "cell_type": "markdown",
      "metadata": {
        "id": "54uIGvb4c7rC"
      },
      "source": [
        "Import your google drive folder\n"
      ]
    },
    {
      "cell_type": "code",
      "metadata": {
        "id": "3pelUK2NNa5N",
        "colab": {
          "base_uri": "https://localhost:8080/"
        },
        "outputId": "b9fef924-c19f-4d4f-eb5d-650a7a78b5aa"
      },
      "source": [
        "from google.colab import drive\n",
        "drive.mount('/content/drive', force_remount=True)"
      ],
      "execution_count": null,
      "outputs": [
        {
          "output_type": "stream",
          "text": [
            "Mounted at /content/drive\n"
          ],
          "name": "stdout"
        }
      ]
    },
    {
      "cell_type": "markdown",
      "metadata": {
        "id": "FIbSHEU1wJ4M"
      },
      "source": [
        "Import the DLD data into your google drive, and unzip it"
      ]
    },
    {
      "cell_type": "code",
      "metadata": {
        "id": "BMvZBclHV8YM"
      },
      "source": [
        "%cd  \"/content/drive/My Drive/Data/dldnew\"\r\n",
        "\r\n",
        "!unzip extracted.zip"
      ],
      "execution_count": null,
      "outputs": []
    },
    {
      "cell_type": "markdown",
      "metadata": {
        "id": "fjqCbR0vc_ja"
      },
      "source": [
        "Use tensorflow 1.x for compatibility purposes\n",
        "\n",
        "\n"
      ]
    },
    {
      "cell_type": "code",
      "metadata": {
        "id": "WZ8AVS8d3uGS",
        "colab": {
          "base_uri": "https://localhost:8080/"
        },
        "outputId": "aa6a8a0f-d80d-47b4-997f-3237c29b12c3"
      },
      "source": [
        "%tensorflow_version 1.x"
      ],
      "execution_count": null,
      "outputs": [
        {
          "output_type": "stream",
          "text": [
            "TensorFlow 1.x selected.\n"
          ],
          "name": "stdout"
        }
      ]
    },
    {
      "cell_type": "markdown",
      "metadata": {
        "id": "a_2MsHbYczhv"
      },
      "source": [
        "# Clean install\n"
      ]
    },
    {
      "cell_type": "markdown",
      "metadata": {
        "id": "yLE0Hn_fdUrB"
      },
      "source": [
        "Clone DeepSpeech in your google drive"
      ]
    },
    {
      "cell_type": "code",
      "metadata": {
        "id": "Lih3ZJZ4dJ8v"
      },
      "source": [
        "%cd  \"/content/drive/My Drive/Data/DeepSpeechdld\"\n",
        "!git clone -b v0.9.1 https://github.com/mozilla/DeepSpeech"
      ],
      "execution_count": null,
      "outputs": []
    },
    {
      "cell_type": "markdown",
      "metadata": {
        "id": "1--iYQzWacLf"
      },
      "source": [
        "Get a stable version so we dont work on master \n",
        "\n",
        "current =  v0.9.1"
      ]
    },
    {
      "cell_type": "markdown",
      "metadata": {
        "id": "QGWcAdPAlfso"
      },
      "source": [
        "# *Install* dependencies"
      ]
    },
    {
      "cell_type": "markdown",
      "metadata": {
        "id": "V0UjicYOrzOt"
      },
      "source": [
        "Install Sox"
      ]
    },
    {
      "cell_type": "code",
      "metadata": {
        "id": "8jHgokgNrw6X"
      },
      "source": [
        "#!apt -qq install -y sox\n",
        "!apt -qq install -y sox libsox-fmt-mp3"
      ],
      "execution_count": null,
      "outputs": []
    },
    {
      "cell_type": "markdown",
      "metadata": {
        "id": "lnTpfaLmwgGL"
      },
      "source": [
        "Go to where you clone the deepspeech github repository and run those commands to install the dependencies"
      ]
    },
    {
      "cell_type": "code",
      "metadata": {
        "id": "13WD-FsWleMv"
      },
      "source": [
        "%cd  \"/content/drive/My Drive/Data/DeepSpeechdld/DeepSpeech/\"\n",
        "!python3 \"setup.py\" install"
      ],
      "execution_count": null,
      "outputs": []
    },
    {
      "cell_type": "code",
      "metadata": {
        "id": "1IRAHIx1XuNb"
      },
      "source": [
        "!pip3 install -U -e ."
      ],
      "execution_count": null,
      "outputs": []
    },
    {
      "cell_type": "code",
      "metadata": {
        "id": "zP7au5jMeYAC"
      },
      "source": [
        "!pip3 install tensorflow-gpu==1.15.4"
      ],
      "execution_count": null,
      "outputs": []
    },
    {
      "cell_type": "markdown",
      "metadata": {
        "id": "Tb4rSlafPp5c"
      },
      "source": [
        "\n",
        "# Start Training"
      ]
    },
    {
      "cell_type": "markdown",
      "metadata": {
        "id": "o18dKjaQxeA_"
      },
      "source": [
        "## Transfer Learning"
      ]
    },
    {
      "cell_type": "markdown",
      "metadata": {
        "id": "Y_fPNHUzNlUY"
      },
      "source": [
        "Launch this line in order to fine tune the existing model\n",
        "\n",
        "\n",
        "*   change train files my-train.csv\n",
        "*   change dev files my-dev.csv\n",
        "*   change test files my_dev.csv\n",
        "\n",
        "Make sure tensorflow 1.x is selectionned\n",
        "And make sure you ran python \"setup.py\" install to install the dependeincies\n",
        "\n"
      ]
    },
    {
      "cell_type": "markdown",
      "metadata": {
        "id": "o5FRuy0nyY2B"
      },
      "source": [
        "Import the checkpoints for transfer learning"
      ]
    },
    {
      "cell_type": "code",
      "metadata": {
        "id": "PXrs_Gh5yW7C"
      },
      "source": [
        "%cd  \"/mnt/\"\r\n",
        "!mkdir checkpoints\r\n",
        "%cd  \"/mnt/checkpoints/\"\r\n",
        "!curl -LO https://github.com/MozillaItalia/DeepSpeech-Italian-Model/releases/download/2020.08.07/checkpoint_it.tar.xz\r\n",
        "!!tar xvf checkpoint_it.tar.xz"
      ],
      "execution_count": null,
      "outputs": []
    },
    {
      "cell_type": "markdown",
      "metadata": {
        "id": "oBRcPGnLyc_I"
      },
      "source": [
        "Run this line to start the transfer learning process"
      ]
    },
    {
      "cell_type": "code",
      "metadata": {
        "id": "fkZhsCNkx2Di"
      },
      "source": [
        "%cd  \"/content/drive/My Drive/Data/DeepSpeechdld/DeepSpeech/\"\n",
        "!python3 DeepSpeech.py \\\n",
        "  --drop_source_layers 1 \\\n",
        "#  --alphabet_config_path \"/content/drive/MyDrive/Data/alphabet.txt\" \\\n",
        "  --n_hidden 2048 \\\n",
        "  --save_checkpoint_dir \"/content/drive/MyDrive/Data/checkpointdldtransfer/\" \\\n",
        "  --load_checkpoint_dir \"/mnt/checkpoints/\" \\\n",
        "  --epochs 3 \\\n",
        "  --train_files \"/content/drive/My Drive/Data/dldnew/dld_train.csv\" \\\n",
        "  --dev_files \"/content/drive/My Drive/Data/dldnew/dld_val.csv\" \\\n",
        "  --test_files \"/content/drive/My Drive/Data/dldnew/dld_test.csv\" \\\n",
        "  --export_dir \"/content/drive/My Drive/Data/dldmodel/\"\\\n",
        "  --train_cudnn \\\n",
        "  --automatic_mixed_precision\n",
        "\n"
      ],
      "execution_count": null,
      "outputs": []
    },
    {
      "cell_type": "markdown",
      "metadata": {
        "id": "3O0cUjrrw5s1"
      },
      "source": [
        "You can try the model by running this line\r\n",
        "\r\n",
        "The **client.py** file is provided in the folder"
      ]
    },
    {
      "cell_type": "code",
      "metadata": {
        "id": "B3ylAIIBNidy"
      },
      "source": [
        "!python3 client.py —model=\"path/to/model\" —audio=\"//content/drive/My Drive/Data/dldnew/extracted/M_15_17/13-m_15_17.wav\""
      ],
      "execution_count": null,
      "outputs": []
    },
    {
      "cell_type": "markdown",
      "metadata": {
        "id": "RHaJPh3jyrC8"
      },
      "source": [
        "## Fine tuning\r\n"
      ]
    },
    {
      "cell_type": "markdown",
      "metadata": {
        "id": "yAjMdY2n2w_t"
      },
      "source": [
        "Import the checkpoint for fine tuning"
      ]
    },
    {
      "cell_type": "code",
      "metadata": {
        "id": "bbfOPU4z6d4e"
      },
      "source": [
        "%cd  \"/mnt/\"\r\n",
        "!mkdir checkpointstrans\r\n",
        "%cd  \"/mnt/checkpointstrans/\"\r\n",
        "!curl -LO https://github.com/MozillaItalia/DeepSpeech-Italian-Model/releases/download/2020.08.07/transfer_model_tensorflow_it.tar.xz\r\n",
        "!tar xvf transfer_model_tensorflow_it.tar.xz"
      ],
      "execution_count": null,
      "outputs": []
    },
    {
      "cell_type": "markdown",
      "metadata": {
        "id": "75IJuJYOx8uf"
      },
      "source": [
        "Run this to start the fine tuning process"
      ]
    },
    {
      "cell_type": "code",
      "metadata": {
        "id": "j-BfSDE-6jHq"
      },
      "source": [
        "%cd  \"/content/drive/My Drive/Data/DeepSpeechdld/DeepSpeech/\"\r\n",
        "!python3 DeepSpeech.py \\\r\n",
        "  --drop_source_layers 1 \\\r\n",
        "  --alphabet_config_path \"/content/drive/MyDrive/Data/alphabet.txt\" \\\r\n",
        "  --n_hidden 2048 \\\r\n",
        "  --save_checkpoint_dir \"/content/drive/MyDrive/Data/checkpointdldtransfer/\" \\\r\n",
        "  --load_checkpoint_dir \"/mnt/checkpointstrans/\" \\\r\n",
        "  --train_files \"/content/drive/My Drive/Data/dldnew/dld_train.csv\" \\\r\n",
        "  --dev_files \"/content/drive/My Drive/Data/dldnew/dld_val.csv\" \\\r\n",
        "  --test_files \"/content/drive/My Drive/Data/dldnew/dld_test.csv\" \\\r\n",
        "  --export_dir \"/content/drive/My Drive/Data/dldmodel/\"\\\r\n",
        "  --train_cudnn True\\\r\n",
        "  --automatic_mixed_precision"
      ],
      "execution_count": null,
      "outputs": []
    }
  ]
}